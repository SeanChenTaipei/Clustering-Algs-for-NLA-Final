{
 "cells": [
  {
   "cell_type": "code",
   "execution_count": 1,
   "id": "faae9f2a",
   "metadata": {},
   "outputs": [],
   "source": [
    "import pandas as pd\n",
    "from scipy.spatial.distance import euclidean, pdist, squareform\n",
    "\n",
    "\n",
    "def similarity_func(u, v):\n",
    "    return 1/(1+euclidean(u,v))\n",
    "\n",
    "DF_var = pd.DataFrame.from_dict({\"s1\":[1.2,3.4,10.2],\"s2\":[1.4,3.1,10.7],\"s3\":[2.1,3.7,11.3],\"s4\":[1.5,3.2,10.9]})\n",
    "DF_var.index = [\"g1\",\"g2\",\"g3\"]\n",
    "\n",
    "dists = pdist(DF_var, similarity_func)\n",
    "DF_euclid = pd.DataFrame(squareform(dists), columns=DF_var.index, index=DF_var.index)"
   ]
  },
  {
   "cell_type": "code",
   "execution_count": 2,
   "id": "f3d0a5ce",
   "metadata": {},
   "outputs": [
    {
     "data": {
      "text/html": [
       "<div>\n",
       "<style scoped>\n",
       "    .dataframe tbody tr th:only-of-type {\n",
       "        vertical-align: middle;\n",
       "    }\n",
       "\n",
       "    .dataframe tbody tr th {\n",
       "        vertical-align: top;\n",
       "    }\n",
       "\n",
       "    .dataframe thead th {\n",
       "        text-align: right;\n",
       "    }\n",
       "</style>\n",
       "<table border=\"1\" class=\"dataframe\">\n",
       "  <thead>\n",
       "    <tr style=\"text-align: right;\">\n",
       "      <th></th>\n",
       "      <th>g1</th>\n",
       "      <th>g2</th>\n",
       "      <th>g3</th>\n",
       "    </tr>\n",
       "  </thead>\n",
       "  <tbody>\n",
       "    <tr>\n",
       "      <th>g1</th>\n",
       "      <td>0.000000</td>\n",
       "      <td>0.215963</td>\n",
       "      <td>0.051408</td>\n",
       "    </tr>\n",
       "    <tr>\n",
       "      <th>g2</th>\n",
       "      <td>0.215963</td>\n",
       "      <td>0.000000</td>\n",
       "      <td>0.063021</td>\n",
       "    </tr>\n",
       "    <tr>\n",
       "      <th>g3</th>\n",
       "      <td>0.051408</td>\n",
       "      <td>0.063021</td>\n",
       "      <td>0.000000</td>\n",
       "    </tr>\n",
       "  </tbody>\n",
       "</table>\n",
       "</div>"
      ],
      "text/plain": [
       "          g1        g2        g3\n",
       "g1  0.000000  0.215963  0.051408\n",
       "g2  0.215963  0.000000  0.063021\n",
       "g3  0.051408  0.063021  0.000000"
      ]
     },
     "execution_count": 2,
     "metadata": {},
     "output_type": "execute_result"
    }
   ],
   "source": [
    "DF_euclid"
   ]
  },
  {
   "cell_type": "code",
   "execution_count": 4,
   "id": "12a6b2c3",
   "metadata": {},
   "outputs": [
    {
     "name": "stdout",
     "output_type": "stream",
     "text": [
      "c_1&0&0&0&0&0\n",
      "0&c_2&0&0&0&0\n",
      "0&0&c_3&0&0&0\n",
      "0&0&0&c_4&0&0\n",
      "0&0&0&0&c_5&0\n",
      "0&0&0&0&0&c_6\n"
     ]
    }
   ],
   "source": [
    "for i in range(6):\n",
    "    v = list('000000')\n",
    "    v[i] = f'c_{i+1}'\n",
    "    print(*v, sep = '&')"
   ]
  },
  {
   "cell_type": "code",
   "execution_count": null,
   "id": "f67cb3e9",
   "metadata": {},
   "outputs": [],
   "source": []
  }
 ],
 "metadata": {
  "kernelspec": {
   "display_name": "Python3.7.9",
   "language": "python",
   "name": "python3"
  },
  "language_info": {
   "codemirror_mode": {
    "name": "ipython",
    "version": 3
   },
   "file_extension": ".py",
   "mimetype": "text/x-python",
   "name": "python",
   "nbconvert_exporter": "python",
   "pygments_lexer": "ipython3",
   "version": "3.7.9"
  }
 },
 "nbformat": 4,
 "nbformat_minor": 5
}
